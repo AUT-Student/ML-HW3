{
 "cells": [
  {
   "cell_type": "code",
   "execution_count": 48,
   "id": "entitled-colors",
   "metadata": {},
   "outputs": [],
   "source": [
    "from sklearn.svm import LinearSVC\n",
    "import pandas as pd\n",
    "import numpy as np"
   ]
  },
  {
   "cell_type": "markdown",
   "id": "psychological-flexibility",
   "metadata": {},
   "source": [
    "# Load Dataset"
   ]
  },
  {
   "cell_type": "code",
   "execution_count": 22,
   "id": "tropical-masters",
   "metadata": {},
   "outputs": [],
   "source": [
    "data = pd.read_csv(\"iris.data\", header=None, names=[\"Sepal Length\", \"Sepal Width\", \"Petal Length\", \"Petal Width\", \"class\"])"
   ]
  },
  {
   "cell_type": "code",
   "execution_count": 3,
   "id": "flush-continuity",
   "metadata": {},
   "outputs": [],
   "source": [
    "data_sepal = data[[\"Sepal Length\", \"Sepal Width\", \"class\"]]\n",
    "data_petal = data[[\"Petal Length\", \"Petal Width\", \"class\"]]"
   ]
  },
  {
   "cell_type": "markdown",
   "id": "thick-envelope",
   "metadata": {},
   "source": [
    "## Plot Dataset"
   ]
  },
  {
   "cell_type": "code",
   "execution_count": 9,
   "id": "amber-italy",
   "metadata": {},
   "outputs": [],
   "source": [
    "class_names = list(set(data[\"class\"].values))"
   ]
  },
  {
   "cell_type": "code",
   "execution_count": 12,
   "id": "eleven-thunder",
   "metadata": {},
   "outputs": [
    {
     "data": {
      "text/html": [
       "<div>\n",
       "<style scoped>\n",
       "    .dataframe tbody tr th:only-of-type {\n",
       "        vertical-align: middle;\n",
       "    }\n",
       "\n",
       "    .dataframe tbody tr th {\n",
       "        vertical-align: top;\n",
       "    }\n",
       "\n",
       "    .dataframe thead th {\n",
       "        text-align: right;\n",
       "    }\n",
       "</style>\n",
       "<table border=\"1\" class=\"dataframe\">\n",
       "  <thead>\n",
       "    <tr style=\"text-align: right;\">\n",
       "      <th></th>\n",
       "      <th>Petal Length</th>\n",
       "      <th>Petal Width</th>\n",
       "      <th>class</th>\n",
       "    </tr>\n",
       "  </thead>\n",
       "  <tbody>\n",
       "    <tr>\n",
       "      <th>0</th>\n",
       "      <td>1.4</td>\n",
       "      <td>0.2</td>\n",
       "      <td>Iris-setosa</td>\n",
       "    </tr>\n",
       "    <tr>\n",
       "      <th>1</th>\n",
       "      <td>1.4</td>\n",
       "      <td>0.2</td>\n",
       "      <td>Iris-setosa</td>\n",
       "    </tr>\n",
       "    <tr>\n",
       "      <th>2</th>\n",
       "      <td>1.3</td>\n",
       "      <td>0.2</td>\n",
       "      <td>Iris-setosa</td>\n",
       "    </tr>\n",
       "    <tr>\n",
       "      <th>3</th>\n",
       "      <td>1.5</td>\n",
       "      <td>0.2</td>\n",
       "      <td>Iris-setosa</td>\n",
       "    </tr>\n",
       "    <tr>\n",
       "      <th>4</th>\n",
       "      <td>1.4</td>\n",
       "      <td>0.2</td>\n",
       "      <td>Iris-setosa</td>\n",
       "    </tr>\n",
       "    <tr>\n",
       "      <th>...</th>\n",
       "      <td>...</td>\n",
       "      <td>...</td>\n",
       "      <td>...</td>\n",
       "    </tr>\n",
       "    <tr>\n",
       "      <th>145</th>\n",
       "      <td>5.2</td>\n",
       "      <td>2.3</td>\n",
       "      <td>Iris-virginica</td>\n",
       "    </tr>\n",
       "    <tr>\n",
       "      <th>146</th>\n",
       "      <td>5.0</td>\n",
       "      <td>1.9</td>\n",
       "      <td>Iris-virginica</td>\n",
       "    </tr>\n",
       "    <tr>\n",
       "      <th>147</th>\n",
       "      <td>5.2</td>\n",
       "      <td>2.0</td>\n",
       "      <td>Iris-virginica</td>\n",
       "    </tr>\n",
       "    <tr>\n",
       "      <th>148</th>\n",
       "      <td>5.4</td>\n",
       "      <td>2.3</td>\n",
       "      <td>Iris-virginica</td>\n",
       "    </tr>\n",
       "    <tr>\n",
       "      <th>149</th>\n",
       "      <td>5.1</td>\n",
       "      <td>1.8</td>\n",
       "      <td>Iris-virginica</td>\n",
       "    </tr>\n",
       "  </tbody>\n",
       "</table>\n",
       "<p>150 rows × 3 columns</p>\n",
       "</div>"
      ],
      "text/plain": [
       "     Petal Length  Petal Width           class\n",
       "0             1.4          0.2     Iris-setosa\n",
       "1             1.4          0.2     Iris-setosa\n",
       "2             1.3          0.2     Iris-setosa\n",
       "3             1.5          0.2     Iris-setosa\n",
       "4             1.4          0.2     Iris-setosa\n",
       "..            ...          ...             ...\n",
       "145           5.2          2.3  Iris-virginica\n",
       "146           5.0          1.9  Iris-virginica\n",
       "147           5.2          2.0  Iris-virginica\n",
       "148           5.4          2.3  Iris-virginica\n",
       "149           5.1          1.8  Iris-virginica\n",
       "\n",
       "[150 rows x 3 columns]"
      ]
     },
     "execution_count": 12,
     "metadata": {},
     "output_type": "execute_result"
    }
   ],
   "source": [
    "data_petal"
   ]
  },
  {
   "cell_type": "code",
   "execution_count": 14,
   "id": "static-gabriel",
   "metadata": {},
   "outputs": [
    {
     "data": {
      "image/png": "[encoded data removed]",
      "text/plain": [
       "<Figure size 720x360 with 2 Axes>"
      ]
     },
     "metadata": {
      "needs_background": "light"
     },
     "output_type": "display_data"
    }
   ],
   "source": [
    "import matplotlib.pyplot as plt\n",
    "\n",
    "class_colors = [\"black\", \"red\", \"blue\"]\n",
    "\n",
    "fig, axs = plt.subplots(1,2)\n",
    "\n",
    "# Sepal\n",
    "class_data = []\n",
    "for class_name in class_names:\n",
    "    class_data.append(data_sepal[data_sepal[\"class\"]==class_name])    \n",
    "    \n",
    "for i in range(len(class_names)):\n",
    "    axs[0].scatter(class_data[i][\"Sepal Length\"].values, class_data[i][\"Sepal Width\"].values,\n",
    "                color=class_colors[i], label=class_names[i])\n",
    "\n",
    "\n",
    "axs[0].title.set_text(\"Sepal\")    \n",
    "axs[0].legend()\n",
    "plt.setp(axs[0], xlabel='Sepal Length (cm)')\n",
    "plt.setp(axs[0], ylabel='Sepal Width (cm)')    \n",
    "\n",
    "# Petal\n",
    "class_data = []\n",
    "for class_name in class_names:\n",
    "    class_data.append(data_petal[data_petal[\"class\"]==class_name])    \n",
    "    \n",
    "for i in range(len(class_names)):\n",
    "    axs[1].scatter(class_data[i][\"Petal Length\"].values, class_data[i][\"Petal Width\"].values,\n",
    "                color=class_colors[i], label=class_names[i])\n",
    "\n",
    "axs[1].title.set_text(\"Petal\")    \n",
    "axs[1].legend()\n",
    "plt.setp(axs[1], xlabel='Petal Length (cm)')\n",
    "plt.setp(axs[1], ylabel='Petal Width (cm)')    \n",
    "\n",
    "# Plot all!\n",
    "fig.set_size_inches(10,5)\n",
    "plt.show()"
   ]
  },
  {
   "cell_type": "markdown",
   "id": "unlimited-michael",
   "metadata": {},
   "source": [
    "# Train and Test Split"
   ]
  },
  {
   "cell_type": "code",
   "execution_count": 29,
   "id": "effective-start",
   "metadata": {},
   "outputs": [],
   "source": [
    "CREATE_TRAIN_TEST_REQUIRED = False\n",
    "\n",
    "if CREATE_TRAIN_TEST_REQUIRED:\n",
    "    data = data.sample(frac=1)\n",
    "    \n",
    "    data_train = data.head(int(150*0.7))\n",
    "    data_test = data.tail(int(150*0.3))\n",
    "    \n",
    "    data_train.to_csv(\"./train_data.csv\")\n",
    "    data_test.to_csv(\"./test_data.csv\")\n",
    "else:\n",
    "    data_train = pd.read_csv(\"./train_data.csv\").drop(columns=[\"Unnamed: 0\"])\n",
    "    data_test = pd.read_csv(\"./test_data.csv\").drop(columns=[\"Unnamed: 0\"])"
   ]
  },
  {
   "cell_type": "code",
   "execution_count": 30,
   "id": "embedded-biodiversity",
   "metadata": {},
   "outputs": [
    {
     "data": {
      "text/html": [
       "<div>\n",
       "<style scoped>\n",
       "    .dataframe tbody tr th:only-of-type {\n",
       "        vertical-align: middle;\n",
       "    }\n",
       "\n",
       "    .dataframe tbody tr th {\n",
       "        vertical-align: top;\n",
       "    }\n",
       "\n",
       "    .dataframe thead th {\n",
       "        text-align: right;\n",
       "    }\n",
       "</style>\n",
       "<table border=\"1\" class=\"dataframe\">\n",
       "  <thead>\n",
       "    <tr style=\"text-align: right;\">\n",
       "      <th></th>\n",
       "      <th>Sepal Length</th>\n",
       "      <th>Sepal Width</th>\n",
       "      <th>Petal Length</th>\n",
       "      <th>Petal Width</th>\n",
       "      <th>class</th>\n",
       "    </tr>\n",
       "  </thead>\n",
       "  <tbody>\n",
       "    <tr>\n",
       "      <th>0</th>\n",
       "      <td>7.3</td>\n",
       "      <td>2.9</td>\n",
       "      <td>6.3</td>\n",
       "      <td>1.8</td>\n",
       "      <td>Iris-virginica</td>\n",
       "    </tr>\n",
       "    <tr>\n",
       "      <th>1</th>\n",
       "      <td>6.7</td>\n",
       "      <td>3.3</td>\n",
       "      <td>5.7</td>\n",
       "      <td>2.1</td>\n",
       "      <td>Iris-virginica</td>\n",
       "    </tr>\n",
       "    <tr>\n",
       "      <th>2</th>\n",
       "      <td>4.6</td>\n",
       "      <td>3.4</td>\n",
       "      <td>1.4</td>\n",
       "      <td>0.3</td>\n",
       "      <td>Iris-setosa</td>\n",
       "    </tr>\n",
       "    <tr>\n",
       "      <th>3</th>\n",
       "      <td>6.0</td>\n",
       "      <td>2.9</td>\n",
       "      <td>4.5</td>\n",
       "      <td>1.5</td>\n",
       "      <td>Iris-versicolor</td>\n",
       "    </tr>\n",
       "    <tr>\n",
       "      <th>4</th>\n",
       "      <td>4.9</td>\n",
       "      <td>3.1</td>\n",
       "      <td>1.5</td>\n",
       "      <td>0.1</td>\n",
       "      <td>Iris-setosa</td>\n",
       "    </tr>\n",
       "    <tr>\n",
       "      <th>...</th>\n",
       "      <td>...</td>\n",
       "      <td>...</td>\n",
       "      <td>...</td>\n",
       "      <td>...</td>\n",
       "      <td>...</td>\n",
       "    </tr>\n",
       "    <tr>\n",
       "      <th>100</th>\n",
       "      <td>5.1</td>\n",
       "      <td>3.8</td>\n",
       "      <td>1.6</td>\n",
       "      <td>0.2</td>\n",
       "      <td>Iris-setosa</td>\n",
       "    </tr>\n",
       "    <tr>\n",
       "      <th>101</th>\n",
       "      <td>6.2</td>\n",
       "      <td>2.2</td>\n",
       "      <td>4.5</td>\n",
       "      <td>1.5</td>\n",
       "      <td>Iris-versicolor</td>\n",
       "    </tr>\n",
       "    <tr>\n",
       "      <th>102</th>\n",
       "      <td>5.5</td>\n",
       "      <td>2.6</td>\n",
       "      <td>4.4</td>\n",
       "      <td>1.2</td>\n",
       "      <td>Iris-versicolor</td>\n",
       "    </tr>\n",
       "    <tr>\n",
       "      <th>103</th>\n",
       "      <td>6.4</td>\n",
       "      <td>3.1</td>\n",
       "      <td>5.5</td>\n",
       "      <td>1.8</td>\n",
       "      <td>Iris-virginica</td>\n",
       "    </tr>\n",
       "    <tr>\n",
       "      <th>104</th>\n",
       "      <td>5.6</td>\n",
       "      <td>2.8</td>\n",
       "      <td>4.9</td>\n",
       "      <td>2.0</td>\n",
       "      <td>Iris-virginica</td>\n",
       "    </tr>\n",
       "  </tbody>\n",
       "</table>\n",
       "<p>105 rows × 5 columns</p>\n",
       "</div>"
      ],
      "text/plain": [
       "     Sepal Length  Sepal Width  Petal Length  Petal Width            class\n",
       "0             7.3          2.9           6.3          1.8   Iris-virginica\n",
       "1             6.7          3.3           5.7          2.1   Iris-virginica\n",
       "2             4.6          3.4           1.4          0.3      Iris-setosa\n",
       "3             6.0          2.9           4.5          1.5  Iris-versicolor\n",
       "4             4.9          3.1           1.5          0.1      Iris-setosa\n",
       "..            ...          ...           ...          ...              ...\n",
       "100           5.1          3.8           1.6          0.2      Iris-setosa\n",
       "101           6.2          2.2           4.5          1.5  Iris-versicolor\n",
       "102           5.5          2.6           4.4          1.2  Iris-versicolor\n",
       "103           6.4          3.1           5.5          1.8   Iris-virginica\n",
       "104           5.6          2.8           4.9          2.0   Iris-virginica\n",
       "\n",
       "[105 rows x 5 columns]"
      ]
     },
     "execution_count": 30,
     "metadata": {},
     "output_type": "execute_result"
    }
   ],
   "source": [
    "data_train"
   ]
  },
  {
   "cell_type": "markdown",
   "id": "final-circular",
   "metadata": {},
   "source": [
    "# Linear Kernel"
   ]
  },
  {
   "cell_type": "code",
   "execution_count": null,
   "id": "acting-craft",
   "metadata": {},
   "outputs": [],
   "source": [
    "for feature_group in [\"Sepal\"]"
   ]
  },
  {
   "cell_type": "code",
   "execution_count": 34,
   "id": "acoustic-deadline",
   "metadata": {},
   "outputs": [],
   "source": [
    "linear_svm = LinearSVC(C=1, tol=1e-5)"
   ]
  },
  {
   "cell_type": "code",
   "execution_count": 35,
   "id": "ordered-desktop",
   "metadata": {},
   "outputs": [
    {
     "name": "stderr",
     "output_type": "stream",
     "text": [
      "c:\\users\\alirezamazochi\\appdata\\local\\programs\\python\\python39\\lib\\site-packages\\sklearn\\svm\\_base.py:985: ConvergenceWarning: Liblinear failed to converge, increase the number of iterations.\n",
      "  warnings.warn(\"Liblinear failed to converge, increase \"\n"
     ]
    },
    {
     "data": {
      "text/plain": [
       "LinearSVC(C=1, tol=1e-05)"
      ]
     },
     "execution_count": 35,
     "metadata": {},
     "output_type": "execute_result"
    }
   ],
   "source": [
    "linear_svm.fit(data_sepal[[\"Sepal Length\", \"Sepal Width\"]], data_petal[\"class\"])"
   ]
  },
  {
   "cell_type": "code",
   "execution_count": 38,
   "id": "conventional-humanity",
   "metadata": {},
   "outputs": [
    {
     "data": {
      "text/plain": [
       "array(['Iris-versicolor', 'Iris-setosa'], dtype=object)"
      ]
     },
     "execution_count": 38,
     "metadata": {},
     "output_type": "execute_result"
    }
   ],
   "source": [
    "linear_svm.predict([[0,0], [50, 50]])"
   ]
  },
  {
   "cell_type": "code",
   "execution_count": 53,
   "id": "inner-adjustment",
   "metadata": {},
   "outputs": [
    {
     "data": {
      "text/plain": [
       "<matplotlib.collections.PathCollection at 0x1e482a0dfd0>"
      ]
     },
     "execution_count": 53,
     "metadata": {},
     "output_type": "execute_result"
    },
    {
     "data": {
      "image/png": "[encoded data removed]",
      "text/plain": [
       "<Figure size 432x288 with 1 Axes>"
      ]
     },
     "metadata": {
      "needs_background": "light"
     },
     "output_type": "display_data"
    }
   ],
   "source": [
    "x_list = []\n",
    "y_list = []\n",
    "c_list = []\n",
    "xy_list = []\n",
    "for x in np.linspace(0, 8, 100):\n",
    "    for y in np.linspace(0, 4.5, 100):\n",
    "        xy_list.append([x, y])\n",
    "        x_list.append(x)\n",
    "        y_list.append(y)\n",
    "        \n",
    "for predict in linear_svm.predict(xy_list):\n",
    "    if predict==\"Iris-setosa\":\n",
    "        c_list.append(\"black\")\n",
    "    elif predict==\"Iris-versicolor\":\n",
    "        c_list.append(\"red\")\n",
    "    elif predict==\"Iris-virginica\":\n",
    "        c_list.append(\"blue\")\n",
    "        \n",
    "plt.scatter(x_list, y_list, color=c_list)"
   ]
  },
  {
   "cell_type": "code",
   "execution_count": null,
   "id": "fresh-rider",
   "metadata": {},
   "outputs": [],
   "source": []
  }
 ],
 "metadata": {
  "kernelspec": {
   "display_name": "Python 3",
   "language": "python",
   "name": "python3"
  },
  "language_info": {
   "codemirror_mode": {
    "name": "ipython",
    "version": 3
   },
   "file_extension": ".py",
   "mimetype": "text/x-python",
   "name": "python",
   "nbconvert_exporter": "python",
   "pygments_lexer": "ipython3",
   "version": "3.9.1"
  }
 },
 "nbformat": 4,
 "nbformat_minor": 5
}
